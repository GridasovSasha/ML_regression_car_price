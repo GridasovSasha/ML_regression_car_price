{
 "cells": [
  {
   "cell_type": "code",
   "execution_count": 76,
   "id": "2dff738e",
   "metadata": {},
   "outputs": [],
   "source": [
    "import pandas as pd\n",
    "import numpy as np\n",
    "\n",
    "import matplotlib.pyplot as plt\n",
    "import seaborn as sns\n",
    "sns.set_style('whitegrid')\n",
    "sns.set_palette(\"Set2\")\n",
    "%matplotlib inline\n",
    "\n",
    "import category_encoders as ce\n",
    "\n",
    "from sklearn.linear_model import LinearRegression, Ridge\n",
    "from sklearn.model_selection import train_test_split\n",
    "from sklearn.preprocessing import OneHotEncoder\n",
    "from sklearn.metrics import mean_absolute_percentage_error\n",
    "RANDOM_STATE = 2"
   ]
  },
  {
   "cell_type": "markdown",
   "id": "7b78498c",
   "metadata": {},
   "source": [
    "## Разведывательный анализ данных"
   ]
  },
  {
   "cell_type": "code",
   "execution_count": 77,
   "id": "01e9fc3c",
   "metadata": {},
   "outputs": [
    {
     "data": {
      "text/html": [
       "<div>\n",
       "<style scoped>\n",
       "    .dataframe tbody tr th:only-of-type {\n",
       "        vertical-align: middle;\n",
       "    }\n",
       "\n",
       "    .dataframe tbody tr th {\n",
       "        vertical-align: top;\n",
       "    }\n",
       "\n",
       "    .dataframe thead th {\n",
       "        text-align: right;\n",
       "    }\n",
       "</style>\n",
       "<table border=\"1\" class=\"dataframe\">\n",
       "  <thead>\n",
       "    <tr style=\"text-align: right;\">\n",
       "      <th></th>\n",
       "      <th>Make</th>\n",
       "      <th>Model</th>\n",
       "      <th>Year</th>\n",
       "      <th>Engine Fuel Type</th>\n",
       "      <th>Engine HP</th>\n",
       "      <th>Engine Cylinders</th>\n",
       "      <th>Transmission Type</th>\n",
       "      <th>Driven_Wheels</th>\n",
       "      <th>Number of Doors</th>\n",
       "      <th>Market Category</th>\n",
       "      <th>Vehicle Size</th>\n",
       "      <th>Vehicle Style</th>\n",
       "      <th>highway MPG</th>\n",
       "      <th>city mpg</th>\n",
       "      <th>Popularity</th>\n",
       "      <th>MSRP</th>\n",
       "    </tr>\n",
       "  </thead>\n",
       "  <tbody>\n",
       "    <tr>\n",
       "      <th>0</th>\n",
       "      <td>BMW</td>\n",
       "      <td>1 Series M</td>\n",
       "      <td>2011</td>\n",
       "      <td>premium unleaded (required)</td>\n",
       "      <td>335.0</td>\n",
       "      <td>6.0</td>\n",
       "      <td>MANUAL</td>\n",
       "      <td>rear wheel drive</td>\n",
       "      <td>2.0</td>\n",
       "      <td>Factory Tuner,Luxury,High-Performance</td>\n",
       "      <td>Compact</td>\n",
       "      <td>Coupe</td>\n",
       "      <td>26</td>\n",
       "      <td>19</td>\n",
       "      <td>3916</td>\n",
       "      <td>46135</td>\n",
       "    </tr>\n",
       "    <tr>\n",
       "      <th>1</th>\n",
       "      <td>BMW</td>\n",
       "      <td>1 Series</td>\n",
       "      <td>2011</td>\n",
       "      <td>premium unleaded (required)</td>\n",
       "      <td>300.0</td>\n",
       "      <td>6.0</td>\n",
       "      <td>MANUAL</td>\n",
       "      <td>rear wheel drive</td>\n",
       "      <td>2.0</td>\n",
       "      <td>Luxury,Performance</td>\n",
       "      <td>Compact</td>\n",
       "      <td>Convertible</td>\n",
       "      <td>28</td>\n",
       "      <td>19</td>\n",
       "      <td>3916</td>\n",
       "      <td>40650</td>\n",
       "    </tr>\n",
       "    <tr>\n",
       "      <th>2</th>\n",
       "      <td>BMW</td>\n",
       "      <td>1 Series</td>\n",
       "      <td>2011</td>\n",
       "      <td>premium unleaded (required)</td>\n",
       "      <td>300.0</td>\n",
       "      <td>6.0</td>\n",
       "      <td>MANUAL</td>\n",
       "      <td>rear wheel drive</td>\n",
       "      <td>2.0</td>\n",
       "      <td>Luxury,High-Performance</td>\n",
       "      <td>Compact</td>\n",
       "      <td>Coupe</td>\n",
       "      <td>28</td>\n",
       "      <td>20</td>\n",
       "      <td>3916</td>\n",
       "      <td>36350</td>\n",
       "    </tr>\n",
       "  </tbody>\n",
       "</table>\n",
       "</div>"
      ],
      "text/plain": [
       "  Make       Model  Year             Engine Fuel Type  Engine HP  \\\n",
       "0  BMW  1 Series M  2011  premium unleaded (required)      335.0   \n",
       "1  BMW    1 Series  2011  premium unleaded (required)      300.0   \n",
       "2  BMW    1 Series  2011  premium unleaded (required)      300.0   \n",
       "\n",
       "   Engine Cylinders Transmission Type     Driven_Wheels  Number of Doors  \\\n",
       "0               6.0            MANUAL  rear wheel drive              2.0   \n",
       "1               6.0            MANUAL  rear wheel drive              2.0   \n",
       "2               6.0            MANUAL  rear wheel drive              2.0   \n",
       "\n",
       "                         Market Category Vehicle Size Vehicle Style  \\\n",
       "0  Factory Tuner,Luxury,High-Performance      Compact         Coupe   \n",
       "1                     Luxury,Performance      Compact   Convertible   \n",
       "2                Luxury,High-Performance      Compact         Coupe   \n",
       "\n",
       "   highway MPG  city mpg  Popularity   MSRP  \n",
       "0           26        19        3916  46135  \n",
       "1           28        19        3916  40650  \n",
       "2           28        20        3916  36350  "
      ]
     },
     "execution_count": 77,
     "metadata": {},
     "output_type": "execute_result"
    }
   ],
   "source": [
    "# загружаем данные\n",
    "data = pd.read_csv('data/data.csv')\n",
    "data.head(3)"
   ]
  },
  {
   "cell_type": "code",
   "execution_count": 78,
   "id": "73bb4e92",
   "metadata": {},
   "outputs": [
    {
     "data": {
      "text/html": [
       "<div>\n",
       "<style scoped>\n",
       "    .dataframe tbody tr th:only-of-type {\n",
       "        vertical-align: middle;\n",
       "    }\n",
       "\n",
       "    .dataframe tbody tr th {\n",
       "        vertical-align: top;\n",
       "    }\n",
       "\n",
       "    .dataframe thead th {\n",
       "        text-align: right;\n",
       "    }\n",
       "</style>\n",
       "<table border=\"1\" class=\"dataframe\">\n",
       "  <thead>\n",
       "    <tr style=\"text-align: right;\">\n",
       "      <th></th>\n",
       "      <th>make</th>\n",
       "      <th>model</th>\n",
       "      <th>year</th>\n",
       "      <th>engine_fuel_type</th>\n",
       "      <th>engine_hp</th>\n",
       "      <th>engine_cylinders</th>\n",
       "      <th>transmission_type</th>\n",
       "      <th>driven_wheels</th>\n",
       "      <th>number_of_doors</th>\n",
       "      <th>market_category</th>\n",
       "      <th>vehicle_size</th>\n",
       "      <th>vehicle_style</th>\n",
       "      <th>highway_mpg</th>\n",
       "      <th>city_mpg</th>\n",
       "      <th>popularity</th>\n",
       "      <th>msrp</th>\n",
       "    </tr>\n",
       "  </thead>\n",
       "  <tbody>\n",
       "    <tr>\n",
       "      <th>0</th>\n",
       "      <td>bmw</td>\n",
       "      <td>1_series_m</td>\n",
       "      <td>2011</td>\n",
       "      <td>premium_unleaded_(required)</td>\n",
       "      <td>335.0</td>\n",
       "      <td>6.0</td>\n",
       "      <td>manual</td>\n",
       "      <td>rear_wheel_drive</td>\n",
       "      <td>2.0</td>\n",
       "      <td>factory_tuner,luxury,high-performance</td>\n",
       "      <td>compact</td>\n",
       "      <td>coupe</td>\n",
       "      <td>26</td>\n",
       "      <td>19</td>\n",
       "      <td>3916</td>\n",
       "      <td>46135</td>\n",
       "    </tr>\n",
       "    <tr>\n",
       "      <th>1</th>\n",
       "      <td>bmw</td>\n",
       "      <td>1_series</td>\n",
       "      <td>2011</td>\n",
       "      <td>premium_unleaded_(required)</td>\n",
       "      <td>300.0</td>\n",
       "      <td>6.0</td>\n",
       "      <td>manual</td>\n",
       "      <td>rear_wheel_drive</td>\n",
       "      <td>2.0</td>\n",
       "      <td>luxury,performance</td>\n",
       "      <td>compact</td>\n",
       "      <td>convertible</td>\n",
       "      <td>28</td>\n",
       "      <td>19</td>\n",
       "      <td>3916</td>\n",
       "      <td>40650</td>\n",
       "    </tr>\n",
       "    <tr>\n",
       "      <th>2</th>\n",
       "      <td>bmw</td>\n",
       "      <td>1_series</td>\n",
       "      <td>2011</td>\n",
       "      <td>premium_unleaded_(required)</td>\n",
       "      <td>300.0</td>\n",
       "      <td>6.0</td>\n",
       "      <td>manual</td>\n",
       "      <td>rear_wheel_drive</td>\n",
       "      <td>2.0</td>\n",
       "      <td>luxury,high-performance</td>\n",
       "      <td>compact</td>\n",
       "      <td>coupe</td>\n",
       "      <td>28</td>\n",
       "      <td>20</td>\n",
       "      <td>3916</td>\n",
       "      <td>36350</td>\n",
       "    </tr>\n",
       "  </tbody>\n",
       "</table>\n",
       "</div>"
      ],
      "text/plain": [
       "  make       model  year             engine_fuel_type  engine_hp  \\\n",
       "0  bmw  1_series_m  2011  premium_unleaded_(required)      335.0   \n",
       "1  bmw    1_series  2011  premium_unleaded_(required)      300.0   \n",
       "2  bmw    1_series  2011  premium_unleaded_(required)      300.0   \n",
       "\n",
       "   engine_cylinders transmission_type     driven_wheels  number_of_doors  \\\n",
       "0               6.0            manual  rear_wheel_drive              2.0   \n",
       "1               6.0            manual  rear_wheel_drive              2.0   \n",
       "2               6.0            manual  rear_wheel_drive              2.0   \n",
       "\n",
       "                         market_category vehicle_size vehicle_style  \\\n",
       "0  factory_tuner,luxury,high-performance      compact         coupe   \n",
       "1                     luxury,performance      compact   convertible   \n",
       "2                luxury,high-performance      compact         coupe   \n",
       "\n",
       "   highway_mpg  city_mpg  popularity   msrp  \n",
       "0           26        19        3916  46135  \n",
       "1           28        19        3916  40650  \n",
       "2           28        20        3916  36350  "
      ]
     },
     "execution_count": 78,
     "metadata": {},
     "output_type": "execute_result"
    }
   ],
   "source": [
    "# переводим названяи столбцов в нижний регистр и меняем пробелы на _\n",
    "data.columns = data.columns.str.lower().str.replace(' ', '_')\n",
    "\n",
    "# собираем список строковых столбцов\n",
    "string_col = list(data.dtypes[data.dtypes == 'object'].index)\n",
    "\n",
    "# в столбцах понижаем регистр, меняем пробелы на _\n",
    "for col in string_col:\n",
    "    data[col] = data[col].str.lower().str.replace(' ', '_')\n",
    "\n",
    "data.head(3)"
   ]
  },
  {
   "cell_type": "code",
   "execution_count": 79,
   "id": "bdf2667f",
   "metadata": {},
   "outputs": [
    {
     "name": "stdout",
     "output_type": "stream",
     "text": [
      "<class 'pandas.core.frame.DataFrame'>\n",
      "RangeIndex: 11914 entries, 0 to 11913\n",
      "Data columns (total 16 columns):\n",
      " #   Column             Non-Null Count  Dtype  \n",
      "---  ------             --------------  -----  \n",
      " 0   make               11914 non-null  object \n",
      " 1   model              11914 non-null  object \n",
      " 2   year               11914 non-null  int64  \n",
      " 3   engine_fuel_type   11911 non-null  object \n",
      " 4   engine_hp          11845 non-null  float64\n",
      " 5   engine_cylinders   11884 non-null  float64\n",
      " 6   transmission_type  11914 non-null  object \n",
      " 7   driven_wheels      11914 non-null  object \n",
      " 8   number_of_doors    11908 non-null  float64\n",
      " 9   market_category    8172 non-null   object \n",
      " 10  vehicle_size       11914 non-null  object \n",
      " 11  vehicle_style      11914 non-null  object \n",
      " 12  highway_mpg        11914 non-null  int64  \n",
      " 13  city_mpg           11914 non-null  int64  \n",
      " 14  popularity         11914 non-null  int64  \n",
      " 15  msrp               11914 non-null  int64  \n",
      "dtypes: float64(3), int64(5), object(8)\n",
      "memory usage: 1.5+ MB\n"
     ]
    }
   ],
   "source": [
    "data.info()"
   ]
  },
  {
   "cell_type": "markdown",
   "id": "9fbaa081",
   "metadata": {},
   "source": [
    "### Анализ целевой переменной"
   ]
  },
  {
   "cell_type": "code",
   "execution_count": 80,
   "id": "b4630eec",
   "metadata": {},
   "outputs": [
    {
     "data": {
      "image/png": "[encoded data removed]",
      "text/plain": [
       "<Figure size 1000x500 with 1 Axes>"
      ]
     },
     "metadata": {},
     "output_type": "display_data"
    }
   ],
   "source": [
    "fig, ax = plt.subplots(figsize=(10,5))\n",
    "ax = sns.histplot(data['msrp'], bins=40)\n",
    "ax.set_title('Распределение цен',fontsize=16)\n",
    "plt.show()"
   ]
  },
  {
   "cell_type": "code",
   "execution_count": 81,
   "id": "bc91193b",
   "metadata": {},
   "outputs": [
    {
     "data": {
      "image/png": "[encoded data removed]",
      "text/plain": [
       "<Figure size 1000x500 with 1 Axes>"
      ]
     },
     "metadata": {},
     "output_type": "display_data"
    }
   ],
   "source": [
    "fig, ax = plt.subplots(figsize=(10,5))\n",
    "ax = sns.histplot(data['msrp'][data['msrp'] < 100000], bins=40)\n",
    "ax.set_title('Распределение цен менее 100000',fontsize=16)\n",
    "plt.show()"
   ]
  },
  {
   "cell_type": "code",
   "execution_count": 82,
   "id": "74b8a730",
   "metadata": {},
   "outputs": [
    {
     "data": {
      "image/png": "[encoded data removed]",
      "text/plain": [
       "<Figure size 1000x500 with 1 Axes>"
      ]
     },
     "metadata": {},
     "output_type": "display_data"
    }
   ],
   "source": [
    "log_prise = np.log1p(data['msrp'])\n",
    "fig, ax = plt.subplots(figsize=(10,5))\n",
    "ax = sns.histplot(log_prise, bins=40)\n",
    "ax.set_title('Распределение цен после логарифмического преобразования',fontsize=16)\n",
    "plt.show()"
   ]
  },
  {
   "cell_type": "code",
   "execution_count": 83,
   "id": "986c8c5d",
   "metadata": {},
   "outputs": [
    {
     "data": {
      "image/png": "[encoded data removed]",
      "text/plain": [
       "<Figure size 1000x500 with 1 Axes>"
      ]
     },
     "metadata": {},
     "output_type": "display_data"
    }
   ],
   "source": [
    "fig, ax = plt.subplots(figsize=(10,5))\n",
    "ax = sns.boxplot(data['msrp'][data['msrp'] < 100000], orient='h')\n",
    "ax.set_title('Распределение цен',fontsize=16)\n",
    "plt.show()"
   ]
  },
  {
   "cell_type": "markdown",
   "id": "e1e895c2",
   "metadata": {},
   "source": [
    "Целевая переменная не распрелелена нормально, возможно оправдано применение логарифмической функции, работа с выбросами"
   ]
  },
  {
   "cell_type": "markdown",
   "id": "02967b36",
   "metadata": {},
   "source": [
    "### Проверка на дубликаты"
   ]
  },
  {
   "cell_type": "code",
   "execution_count": 84,
   "id": "34a80bde",
   "metadata": {},
   "outputs": [
    {
     "name": "stdout",
     "output_type": "stream",
     "text": [
      "Всего дубликатов: 715\n",
      "(11914, 16)\n"
     ]
    }
   ],
   "source": [
    "print(f\"Всего дубликатов: {data.duplicated().sum()}\\n{data.shape}\")"
   ]
  },
  {
   "cell_type": "code",
   "execution_count": 85,
   "id": "9777fa5a",
   "metadata": {},
   "outputs": [
    {
     "name": "stdout",
     "output_type": "stream",
     "text": [
      "Всего дубликатов: 0\n",
      "(11199, 16)\n"
     ]
    }
   ],
   "source": [
    "data = data.drop_duplicates()\n",
    "print(f\"Всего дубликатов: {data.duplicated().sum()}\\n{data.shape}\")"
   ]
  },
  {
   "cell_type": "markdown",
   "id": "b2325f5f",
   "metadata": {},
   "source": [
    "### Проверка на пропуски"
   ]
  },
  {
   "cell_type": "code",
   "execution_count": 86,
   "id": "f4e86c0a",
   "metadata": {},
   "outputs": [
    {
     "data": {
      "text/plain": [
       "make                    0\n",
       "model                   0\n",
       "year                    0\n",
       "engine_fuel_type        3\n",
       "engine_hp              69\n",
       "engine_cylinders       30\n",
       "transmission_type       0\n",
       "driven_wheels           0\n",
       "number_of_doors         6\n",
       "market_category      3376\n",
       "vehicle_size            0\n",
       "vehicle_style           0\n",
       "highway_mpg             0\n",
       "city_mpg                0\n",
       "popularity              0\n",
       "msrp                    0\n",
       "dtype: int64"
      ]
     },
     "execution_count": 86,
     "metadata": {},
     "output_type": "execute_result"
    }
   ],
   "source": [
    "data.isnull().sum()"
   ]
  },
  {
   "cell_type": "code",
   "execution_count": 87,
   "id": "f20ecbac",
   "metadata": {},
   "outputs": [
    {
     "data": {
      "image/png": "[encoded data removed]",
      "text/plain": [
       "<Figure size 1000x500 with 2 Axes>"
      ]
     },
     "metadata": {},
     "output_type": "display_data"
    }
   ],
   "source": [
    "fig, ax = plt.subplots(figsize=(10,5))\n",
    "ax = sns.heatmap(data.isna(), cmap='viridis')\n",
    "ax.set_title('Тепловая карта пропусков',fontsize=16)\n",
    "plt.show()"
   ]
  },
  {
   "cell_type": "markdown",
   "id": "b8e11795",
   "metadata": {},
   "source": [
    "Присутсвтуют пропуски в поризнаках market_category, engine_fuel_type, engine_hp, engine_cylinders:\n",
    "\n",
    "Возможные варианты решения:\n",
    "* engine_fuel_type заполянем 'regular_unleaded'\n",
    "* engine_hp заполняем средним\n",
    "* engine_cylinders электрическим машинам заполняем как 0.0, остальным по моде\n",
    "* market_category можно разделить на нескольк опризнаков, пропуски заполнить 0\n",
    "* number_of_doors coupe заполянем 2.0, sedan заполдняем 4.0"
   ]
  },
  {
   "cell_type": "markdown",
   "id": "aab04a7c",
   "metadata": {},
   "source": [
    "### Анализ признаков"
   ]
  },
  {
   "cell_type": "markdown",
   "id": "43f3c985",
   "metadata": {},
   "source": [
    "#### Тип object "
   ]
  },
  {
   "cell_type": "code",
   "execution_count": 88,
   "id": "5ac826d5",
   "metadata": {},
   "outputs": [
    {
     "data": {
      "text/plain": [
       "Index(['make', 'model', 'engine_fuel_type', 'transmission_type',\n",
       "       'driven_wheels', 'market_category', 'vehicle_size', 'vehicle_style'],\n",
       "      dtype='object')"
      ]
     },
     "execution_count": 88,
     "metadata": {},
     "output_type": "execute_result"
    }
   ],
   "source": [
    "data.select_dtypes(include=['object']).columns"
   ]
  },
  {
   "cell_type": "code",
   "execution_count": 89,
   "id": "3b414e51",
   "metadata": {},
   "outputs": [
    {
     "data": {
      "text/plain": [
       "48"
      ]
     },
     "execution_count": 89,
     "metadata": {},
     "output_type": "execute_result"
    }
   ],
   "source": [
    "# make\n",
    "data['make'].value_counts().count()\n",
    "\n",
    "# Binary"
   ]
  },
  {
   "cell_type": "code",
   "execution_count": 90,
   "id": "e846b92c",
   "metadata": {},
   "outputs": [
    {
     "data": {
      "text/plain": [
       "914"
      ]
     },
     "execution_count": 90,
     "metadata": {},
     "output_type": "execute_result"
    }
   ],
   "source": [
    "# model\n",
    "data['model'].value_counts().count()\n",
    "\n",
    "# Binary"
   ]
  },
  {
   "cell_type": "code",
   "execution_count": 91,
   "id": "882b5c80",
   "metadata": {},
   "outputs": [
    {
     "data": {
      "text/plain": [
       "array(['premium_unleaded_(required)', 'regular_unleaded',\n",
       "       'premium_unleaded_(recommended)', 'flex-fuel_(unleaded/e85)',\n",
       "       'diesel', 'electric',\n",
       "       'flex-fuel_(premium_unleaded_recommended/e85)', 'natural_gas',\n",
       "       'flex-fuel_(premium_unleaded_required/e85)',\n",
       "       'flex-fuel_(unleaded/natural_gas)', nan], dtype=object)"
      ]
     },
     "execution_count": 91,
     "metadata": {},
     "output_type": "execute_result"
    }
   ],
   "source": [
    "# engine_fuel_type\n",
    "data['engine_fuel_type'].unique()\n",
    "\n",
    "# сгрупперуем в группы: regular_unleaded premium_unleaded diesel electric flex-fuel и unknown"
   ]
  },
  {
   "cell_type": "code",
   "execution_count": 92,
   "id": "cd19cc1f",
   "metadata": {},
   "outputs": [
    {
     "data": {
      "text/plain": [
       "automatic           7932\n",
       "manual              2634\n",
       "automated_manual     553\n",
       "direct_drive          68\n",
       "unknown               12\n",
       "Name: transmission_type, dtype: int64"
      ]
     },
     "execution_count": 92,
     "metadata": {},
     "output_type": "execute_result"
    }
   ],
   "source": [
    "# transmission_type\n",
    "data['transmission_type'].value_counts()\n",
    "\n",
    "# OneHot"
   ]
  },
  {
   "cell_type": "code",
   "execution_count": 93,
   "id": "e50cd339",
   "metadata": {},
   "outputs": [
    {
     "data": {
      "text/plain": [
       "front_wheel_drive    4354\n",
       "rear_wheel_drive     3212\n",
       "all_wheel_drive      2308\n",
       "four_wheel_drive     1325\n",
       "Name: driven_wheels, dtype: int64"
      ]
     },
     "execution_count": 93,
     "metadata": {},
     "output_type": "execute_result"
    }
   ],
   "source": [
    "# driven_wheels\n",
    "data['driven_wheels'].value_counts()\n",
    "\n",
    "# OneHot"
   ]
  },
  {
   "cell_type": "code",
   "execution_count": 94,
   "id": "f9724df7",
   "metadata": {},
   "outputs": [
    {
     "data": {
      "text/plain": [
       "crossover                                          1075\n",
       "flex_fuel                                           855\n",
       "luxury                                              819\n",
       "luxury,performance                                  659\n",
       "hatchback                                           574\n",
       "                                                   ... \n",
       "crossover,exotic,luxury,performance                   1\n",
       "exotic,luxury,high-performance,hybrid                 1\n",
       "crossover,exotic,luxury,high-performance              1\n",
       "flex_fuel,factory_tuner,luxury,high-performance       1\n",
       "performance,hybrid                                    1\n",
       "Name: market_category, Length: 71, dtype: int64"
      ]
     },
     "execution_count": 94,
     "metadata": {},
     "output_type": "execute_result"
    }
   ],
   "source": [
    "# market_category\n",
    "data['market_category'].value_counts()\n",
    "\n",
    "# Binary"
   ]
  },
  {
   "cell_type": "code",
   "execution_count": 95,
   "id": "0fc67bb7",
   "metadata": {},
   "outputs": [
    {
     "data": {
      "text/plain": [
       "compact    4395\n",
       "midsize    4121\n",
       "large      2683\n",
       "Name: vehicle_size, dtype: int64"
      ]
     },
     "execution_count": 95,
     "metadata": {},
     "output_type": "execute_result"
    }
   ],
   "source": [
    "# vehicle_size\n",
    "data['vehicle_size'].value_counts()\n",
    "\n",
    "# Порядковый"
   ]
  },
  {
   "cell_type": "code",
   "execution_count": 96,
   "id": "1ffc9d93",
   "metadata": {},
   "outputs": [
    {
     "data": {
      "text/plain": [
       "sedan                  2843\n",
       "4dr_suv                2434\n",
       "coupe                  1175\n",
       "convertible             741\n",
       "4dr_hatchback           663\n",
       "crew_cab_pickup         655\n",
       "extended_cab_pickup     597\n",
       "wagon                   562\n",
       "2dr_hatchback           412\n",
       "passenger_minivan       389\n",
       "regular_cab_pickup      345\n",
       "passenger_van           121\n",
       "2dr_suv                  91\n",
       "cargo_van                84\n",
       "cargo_minivan            59\n",
       "convertible_suv          28\n",
       "Name: vehicle_style, dtype: int64"
      ]
     },
     "execution_count": 96,
     "metadata": {},
     "output_type": "execute_result"
    }
   ],
   "source": [
    "# vehicle_style\n",
    "data['vehicle_style'].value_counts()\n",
    "\n",
    "# OneHot"
   ]
  },
  {
   "cell_type": "markdown",
   "id": "026d40c3",
   "metadata": {},
   "source": [
    "#### Числовой тип"
   ]
  },
  {
   "cell_type": "code",
   "execution_count": 97,
   "id": "768fa284",
   "metadata": {},
   "outputs": [
    {
     "data": {
      "text/plain": [
       "Index(['year', 'engine_hp', 'engine_cylinders', 'number_of_doors',\n",
       "       'highway_mpg', 'city_mpg', 'popularity', 'msrp'],\n",
       "      dtype='object')"
      ]
     },
     "execution_count": 97,
     "metadata": {},
     "output_type": "execute_result"
    }
   ],
   "source": [
    "data.select_dtypes(exclude=['object']).columns"
   ]
  },
  {
   "cell_type": "code",
   "execution_count": 98,
   "id": "47996f52",
   "metadata": {},
   "outputs": [
    {
     "data": {
      "text/plain": [
       "4.0     4362\n",
       "6.0     4291\n",
       "8.0     1965\n",
       "12.0     228\n",
       "5.0      169\n",
       "10.0      65\n",
       "0.0       56\n",
       "3.0       30\n",
       "16.0       3\n",
       "Name: engine_cylinders, dtype: int64"
      ]
     },
     "execution_count": 98,
     "metadata": {},
     "output_type": "execute_result"
    }
   ],
   "source": [
    "data['engine_cylinders'].value_counts()\n",
    "\n",
    "# OneHot"
   ]
  },
  {
   "cell_type": "code",
   "execution_count": 99,
   "id": "38224100",
   "metadata": {},
   "outputs": [
    {
     "data": {
      "text/plain": [
       "4.0    7960\n",
       "2.0    2877\n",
       "3.0     356\n",
       "Name: number_of_doors, dtype: int64"
      ]
     },
     "execution_count": 99,
     "metadata": {},
     "output_type": "execute_result"
    }
   ],
   "source": [
    "#number_of_doors\n",
    "data['number_of_doors'].value_counts()\n",
    "\n",
    "# OneHot"
   ]
  },
  {
   "cell_type": "markdown",
   "id": "641ad011",
   "metadata": {},
   "source": [
    "### Подготовка данных"
   ]
  },
  {
   "cell_type": "code",
   "execution_count": null,
   "id": "188e9ff5",
   "metadata": {},
   "outputs": [
    {
     "data": {
      "text/plain": [
       "\"# обработка пропусков\\ndef nun_prepare(df):\\n\\n    df['engine_fuel_type'] = df['engine_fuel_type'].fillna('regular_unleaded')\\n\\n    engine_hp_mean = df['engine_hp'].mean()\\n    df['engine_hp'] = df['engine_hp'].fillna(engine_hp_mean)\\n\\n    engine_cylinders_mode = df['engine_cylinders'].mode()[0]\\n    engine_cylinders_mapping = {'electric': 0.0}\\n    df['engine_cylinders'] = df['engine_cylinders'].fillna(df['engine_fuel_type'].map(engine_cylinders_mapping))\\n    df['engine_cylinders'] = df['engine_cylinders'].fillna(engine_cylinders_mode)\\n\\n    door_mapping = {'coupe': 2.0, 'sedan': 4.0}\\n    df['number_of_doors'] = df['number_of_doors'].fillna(df['vehicle_style'].map(door_mapping))\\n\\n    df['market_category'] = df['market_category'].fillna(0)\\n\\n    return df\""
      ]
     },
     "execution_count": 100,
     "metadata": {},
     "output_type": "execute_result"
    }
   ],
   "source": [
    "# обработка пропусков\n",
    "def nun_prepare(df):\n",
    "\n",
    "    df['engine_fuel_type'] = df['engine_fuel_type'].fillna('regular_unleaded')\n",
    "\n",
    "    engine_hp_mean = data['engine_hp'].mean()\n",
    "    df['engine_hp'] = df['engine_hp'].fillna(engine_hp_mean)\n",
    "\n",
    "    engine_cylinders_mode = data['engine_cylinders'].mode()[0]\n",
    "    engine_cylinders_mapping = {'electric': 0.0}\n",
    "    df['engine_cylinders'] = df['engine_cylinders'].fillna(df['engine_fuel_type'].map(engine_cylinders_mapping))\n",
    "    df['engine_cylinders'] = df['engine_cylinders'].fillna(engine_cylinders_mode)\n",
    "\n",
    "    door_mapping = {'coupe': 2.0, 'sedan': 4.0}\n",
    "    df['number_of_doors'] = df['number_of_doors'].fillna(df['vehicle_style'].map(door_mapping))\n",
    "\n",
    "    df['market_category'] = df['market_category'].fillna(0)\n",
    "\n",
    "    return df"
   ]
  },
  {
   "cell_type": "code",
   "execution_count": null,
   "id": "8a494d2a",
   "metadata": {},
   "outputs": [
    {
     "data": {
      "text/plain": [
       "\"# функция создания матрицы X из датафрейма и преобразования признаков\\ndef prepare_x(df):\\n    ohe_cols = ['engine_fuel_type', 'transmission_type', 'driven_wheels', 'vehicle_style', 'engine_cylinders', 'number_of_doors']\\n    ori_cols = ['vehicle_size']\\n    bin_cols = ['make', 'model', 'market_category']\\n\\n    df_pr = df.copy()\\n\\n    # кодируем engine_fuel_type\\n    fuel_groups = {\\n    'regular_unleaded': 'regular_unleaded',\\n    'premium_unleaded_(required)': 'premium_unleaded',\\n    'premium_unleaded_(recommended)': 'premium_unleaded',\\n    'diesel': 'diesel',\\n    'electric': 'electric',\\n    'natural_gas': 'unknown',\\n    'flex-fuel_(unleaded/e85)': 'flex-fuel',\\n    'flex-fuel_(premium_unleaded_recommended/e85)': 'flex-fuel',\\n    'flex-fuel_(premium_unleaded_required/e85)': 'flex-fuel',\\n    'flex-fuel_(unleaded/natural_gas)': 'flex-fuel'}\\n\\n    df_pr['engine_fuel_type'] = df_pr['engine_fuel_type'].apply(lambda x: fuel_groups.get(x, 'unknown'))\\n\\n    # кодируем OneHot\\n    df_pr = pd.get_dummies(df, columns=ohe_cols, drop_first=True)\\n\\n    # кодируем порядковые переменные\\n    encoder_1 = ce.OrdinalEncoder(cols=ori_cols)\\n    df_pr = encoder_1.fit_transform(df_pr)\\n\\n    # Кодируем бинарным кодированием\\n    encoder_2 = ce.BinaryEncoder(cols=bin_cols)\\n    df_pr = encoder_2.fit_transform(df_pr)\\n\\n\\n    return df_pr\""
      ]
     },
     "execution_count": 101,
     "metadata": {},
     "output_type": "execute_result"
    }
   ],
   "source": [
    "# функция создания матрицы X из датафрейма и преобразования признаков\n",
    "def prepare_x(df):\n",
    "    ohe_cols = ['engine_fuel_type', 'transmission_type', 'driven_wheels', 'vehicle_style', 'engine_cylinders', 'number_of_doors']\n",
    "    ori_cols = ['vehicle_size']\n",
    "    bin_cols = ['make', 'model', 'market_category']\n",
    "\n",
    "    df_pr = df.copy()\n",
    "\n",
    "    # кодируем engine_fuel_type\n",
    "    fuel_groups = {\n",
    "    'regular_unleaded': 'regular_unleaded',\n",
    "    'premium_unleaded_(required)': 'premium_unleaded',\n",
    "    'premium_unleaded_(recommended)': 'premium_unleaded',\n",
    "    'diesel': 'diesel',\n",
    "    'electric': 'electric',\n",
    "    'flex-fuel_(unleaded/e85)': 'flex-fuel',\n",
    "    'flex-fuel_(premium_unleaded_recommended/e85)': 'flex-fuel',\n",
    "    'flex-fuel_(premium_unleaded_required/e85)': 'flex-fuel',\n",
    "    'flex-fuel_(unleaded/natural_gas)': 'flex-fuel'}\n",
    "\n",
    "    df_pr['engine_fuel_type'] = df_pr['engine_fuel_type'].apply(lambda x: fuel_groups.get(x, 'unknown'))\n",
    "\n",
    "    # кодируем OneHot\n",
    "    df_pr = pd.get_dummies(df, columns=ohe_cols, drop_first=True)\n",
    "\n",
    "    # кодируем порядковые переменные\n",
    "    encoder_1 = ce.OrdinalEncoder(cols=ori_cols)\n",
    "    df_pr = encoder_1.fit_transform(df_pr)\n",
    "\n",
    "    # Кодируем бинарным кодированием\n",
    "    encoder_2 = ce.BinaryEncoder(cols=bin_cols)\n",
    "    df_pr = encoder_2.fit_transform(df_pr)\n",
    "\n",
    "\n",
    "    return df_pr"
   ]
  },
  {
   "cell_type": "code",
   "execution_count": 102,
   "id": "6fe22ce7",
   "metadata": {},
   "outputs": [
    {
     "data": {
      "text/plain": [
       "'data = nun_prepare(data)\\ndata = prepare_x(data)'"
      ]
     },
     "execution_count": 102,
     "metadata": {},
     "output_type": "execute_result"
    }
   ],
   "source": [
    "\"\"\"data = nun_prepare(data)\n",
    "data = prepare_x(data)\"\"\""
   ]
  },
  {
   "cell_type": "code",
   "execution_count": 103,
   "id": "2b748e89",
   "metadata": {},
   "outputs": [],
   "source": [
    "# разбиваем данные на тренировочные и тестовые\n",
    "data_train_full, data_test = train_test_split(data, test_size=0.1, random_state=RANDOM_STATE)\n",
    "\n",
    "# Разбиваем тренировочные данные на тренировочные и валидационные\n",
    "data_train, data_val = train_test_split(data_train_full, test_size=0.22, random_state=RANDOM_STATE)\n",
    "\n",
    "# запишем целевую переменную\n",
    "y_val = np.log1p(data_val['msrp'])\n",
    "y_test = np.log1p(data_test['msrp'])\n",
    "y_train = np.log1p(data_train['msrp'])\n",
    "\n",
    "# удалим целевую переменную из обучающих наборов\n",
    "del data_val['msrp']\n",
    "del data_test['msrp']\n",
    "del data_train['msrp']"
   ]
  },
  {
   "cell_type": "code",
   "execution_count": 104,
   "id": "3620222e",
   "metadata": {},
   "outputs": [],
   "source": [
    "# в качестве примера вручную напишем функцию линеной регрессии c регуляризацией\n",
    "# далее будем использовать моель из бибблиотеки sklearn\n",
    "#def train_linear_regression(X, y, r=0.0):\n",
    "#    # добавляем фиктивный столбец\n",
    "#    ones = np.ones(X.shape[0])\n",
    "#    X = np.column_stack([ones, X])\n",
    "#\n",
    "#    # формула нормлаьного уравнения с регуляризацией\n",
    "#    XTX = X.T.dot(X)\n",
    "#    #добавляем к основной диагонали r\n",
    "#    reg = r * np.eye(XTX.shape[0])\n",
    "#    XTX = XTX + reg\n",
    "#\n",
    "#    XTX_inv = np.linalg.inv(XTX)\n",
    "#    w = XTX_inv.dot(X.T).dot(y)\n",
    "#\n",
    "#    return w[0], w[1:]"
   ]
  },
  {
   "cell_type": "markdown",
   "id": "e62e9117",
   "metadata": {},
   "source": [
    "### Преобразование признаков "
   ]
  },
  {
   "cell_type": "code",
   "execution_count": 105,
   "id": "56f8ba86",
   "metadata": {},
   "outputs": [],
   "source": [
    "# выберем признаки на основе которых будем предсказывать цену\n",
    "base = ['engine_hp', 'engine_cylinders', 'highway_mpg', 'city_mpg', 'popularity']\n",
    "\n",
    "# функция создания матрицы X из датафрейма и преобразования признаков\n",
    "def prepare_x(df):\n",
    "    df = df.copy()\n",
    "    features = base.copy()\n",
    "\n",
    "    # создадим признак возраста автомобиля(2017 - год создания датасета)\n",
    "    df['age'] = 2017 - df.year\n",
    "    features.append('age')\n",
    "\n",
    "    # кодируем признак кол-ва дверей\n",
    "    for n in [2, 3, 4]:\n",
    "        feature = 'number_of_doors%s' % n\n",
    "        df[feature] = (df['number_of_doors'] == n).astype(int)\n",
    "        features.append(feature)\n",
    "\n",
    "    # кодируем признак марки автомобиля\n",
    "    for m in ['chevrolet', 'ford', 'volkswagen', 'toyota', 'dodge']:\n",
    "        feature = 'is_make_%s' % m\n",
    "        df[feature] = (df['make'] == m).astype(int)\n",
    "        features.append(feature)\n",
    "\n",
    "    # кодируем признак типа двигателя\n",
    "    for t in ['regular_unleaded', 'premium_unleaded_(required)',\n",
    "              'premium_unleaded_(recommended)', 'flex-fuel_(unleaded/e85)', 'diesel']:\n",
    "        feature = 'is_type_%s' % t\n",
    "        df[feature] = (df['engine_fuel_type'] == t).astype(int)\n",
    "        features.append(feature)\n",
    "\n",
    "    # кодируем признак типа трансмиссии\n",
    "    for tt in ['automatic', 'manual', 'automated_manual', 'direct_drive', 'unknown']:\n",
    "        feature = 'transmission_type_is_%s' % tt\n",
    "        df[feature] = (df['transmission_type'] == tt).astype(int)\n",
    "        features.append(feature)\n",
    "\n",
    "    # кодируем признак кол-ва ведущих колес\n",
    "    for dw in ['front_wheel_drive', 'rear_wheel_drive', 'all_wheel_drive', 'four_wheel_drive']:\n",
    "        feature = 'is_driven_wheels_%s' % dw\n",
    "        df[feature] = (df['driven_wheels'] == dw).astype(int)\n",
    "        features.append(feature)\n",
    "\n",
    "    # кодируем признак категории маркетинга\n",
    "    for mc in ['crossover', 'flex_fuel', 'luxury', 'luxury,performance', 'hatchback']:\n",
    "        feature = 'is_market_category_%s' % mc\n",
    "        df[feature] = (df['market_category'] == mc).astype(int)\n",
    "        features.append(feature)\n",
    "\n",
    "    # кодируем признак размера\n",
    "    for s in ['compact', 'midsize', 'large']:\n",
    "        feature = 'is_vehicle_size_%s' % s\n",
    "        df[feature] = (df['vehicle_size'] == s).astype(int)\n",
    "        features.append(feature)\n",
    "\n",
    "    # кодируем стиль\n",
    "    for st in ['sedan', '4dr_suv', 'coupe', 'convertible', '4dr_hatchback']:\n",
    "        feature = 'is_vehicle_style_%s' % st\n",
    "        df[feature] = (df['vehicle_style'] == st).astype(int)\n",
    "        features.append(feature)\n",
    "\n",
    "    df_num = df[features]\n",
    "    # избавимся от пропусков - заполним пропуски нулями(либо как было сказано на этапе разведочного анализа)\n",
    "    df_num = df_num.fillna(0)\n",
    "    #X = df_num.values # преобразовываем датафрейм в NumPy массив\n",
    "    return df_num"
   ]
  },
  {
   "cell_type": "markdown",
   "id": "52f1c784",
   "metadata": {},
   "source": [
    "### Обучение и оценка качества модели"
   ]
  },
  {
   "cell_type": "code",
   "execution_count": 106,
   "id": "e5ba4efd",
   "metadata": {},
   "outputs": [
    {
     "data": {
      "text/html": [
       "<style>#sk-container-id-3 {color: black;background-color: white;}#sk-container-id-3 pre{padding: 0;}#sk-container-id-3 div.sk-toggleable {background-color: white;}#sk-container-id-3 label.sk-toggleable__label {cursor: pointer;display: block;width: 100%;margin-bottom: 0;padding: 0.3em;box-sizing: border-box;text-align: center;}#sk-container-id-3 label.sk-toggleable__label-arrow:before {content: \"▸\";float: left;margin-right: 0.25em;color: #696969;}#sk-container-id-3 label.sk-toggleable__label-arrow:hover:before {color: black;}#sk-container-id-3 div.sk-estimator:hover label.sk-toggleable__label-arrow:before {color: black;}#sk-container-id-3 div.sk-toggleable__content {max-height: 0;max-width: 0;overflow: hidden;text-align: left;background-color: #f0f8ff;}#sk-container-id-3 div.sk-toggleable__content pre {margin: 0.2em;color: black;border-radius: 0.25em;background-color: #f0f8ff;}#sk-container-id-3 input.sk-toggleable__control:checked~div.sk-toggleable__content {max-height: 200px;max-width: 100%;overflow: auto;}#sk-container-id-3 input.sk-toggleable__control:checked~label.sk-toggleable__label-arrow:before {content: \"▾\";}#sk-container-id-3 div.sk-estimator input.sk-toggleable__control:checked~label.sk-toggleable__label {background-color: #d4ebff;}#sk-container-id-3 div.sk-label input.sk-toggleable__control:checked~label.sk-toggleable__label {background-color: #d4ebff;}#sk-container-id-3 input.sk-hidden--visually {border: 0;clip: rect(1px 1px 1px 1px);clip: rect(1px, 1px, 1px, 1px);height: 1px;margin: -1px;overflow: hidden;padding: 0;position: absolute;width: 1px;}#sk-container-id-3 div.sk-estimator {font-family: monospace;background-color: #f0f8ff;border: 1px dotted black;border-radius: 0.25em;box-sizing: border-box;margin-bottom: 0.5em;}#sk-container-id-3 div.sk-estimator:hover {background-color: #d4ebff;}#sk-container-id-3 div.sk-parallel-item::after {content: \"\";width: 100%;border-bottom: 1px solid gray;flex-grow: 1;}#sk-container-id-3 div.sk-label:hover label.sk-toggleable__label {background-color: #d4ebff;}#sk-container-id-3 div.sk-serial::before {content: \"\";position: absolute;border-left: 1px solid gray;box-sizing: border-box;top: 0;bottom: 0;left: 50%;z-index: 0;}#sk-container-id-3 div.sk-serial {display: flex;flex-direction: column;align-items: center;background-color: white;padding-right: 0.2em;padding-left: 0.2em;position: relative;}#sk-container-id-3 div.sk-item {position: relative;z-index: 1;}#sk-container-id-3 div.sk-parallel {display: flex;align-items: stretch;justify-content: center;background-color: white;position: relative;}#sk-container-id-3 div.sk-item::before, #sk-container-id-3 div.sk-parallel-item::before {content: \"\";position: absolute;border-left: 1px solid gray;box-sizing: border-box;top: 0;bottom: 0;left: 50%;z-index: -1;}#sk-container-id-3 div.sk-parallel-item {display: flex;flex-direction: column;z-index: 1;position: relative;background-color: white;}#sk-container-id-3 div.sk-parallel-item:first-child::after {align-self: flex-end;width: 50%;}#sk-container-id-3 div.sk-parallel-item:last-child::after {align-self: flex-start;width: 50%;}#sk-container-id-3 div.sk-parallel-item:only-child::after {width: 0;}#sk-container-id-3 div.sk-dashed-wrapped {border: 1px dashed gray;margin: 0 0.4em 0.5em 0.4em;box-sizing: border-box;padding-bottom: 0.4em;background-color: white;}#sk-container-id-3 div.sk-label label {font-family: monospace;font-weight: bold;display: inline-block;line-height: 1.2em;}#sk-container-id-3 div.sk-label-container {text-align: center;}#sk-container-id-3 div.sk-container {/* jupyter's `normalize.less` sets `[hidden] { display: none; }` but bootstrap.min.css set `[hidden] { display: none !important; }` so we also need the `!important` here to be able to override the default hidden behavior on the sphinx rendered scikit-learn.org. See: https://github.com/scikit-learn/scikit-learn/issues/21755 */display: inline-block !important;position: relative;}#sk-container-id-3 div.sk-text-repr-fallback {display: none;}</style><div id=\"sk-container-id-3\" class=\"sk-top-container\"><div class=\"sk-text-repr-fallback\"><pre>Ridge(alpha=0.001)</pre><b>In a Jupyter environment, please rerun this cell to show the HTML representation or trust the notebook. <br />On GitHub, the HTML representation is unable to render, please try loading this page with nbviewer.org.</b></div><div class=\"sk-container\" hidden><div class=\"sk-item\"><div class=\"sk-estimator sk-toggleable\"><input class=\"sk-toggleable__control sk-hidden--visually\" id=\"sk-estimator-id-3\" type=\"checkbox\" checked><label for=\"sk-estimator-id-3\" class=\"sk-toggleable__label sk-toggleable__label-arrow\">Ridge</label><div class=\"sk-toggleable__content\"><pre>Ridge(alpha=0.001)</pre></div></div></div></div></div>"
      ],
      "text/plain": [
       "Ridge(alpha=0.001)"
      ]
     },
     "execution_count": 106,
     "metadata": {},
     "output_type": "execute_result"
    }
   ],
   "source": [
    "# преобразуем датасет\n",
    "#X_train = data_train\n",
    "X_train = prepare_x(data_train)\n",
    "\n",
    "# обучаем модель\n",
    "model = Ridge(alpha=0.001)\n",
    "model.fit(X_train, y_train)"
   ]
  },
  {
   "cell_type": "code",
   "execution_count": 107,
   "id": "08fc2a98",
   "metadata": {},
   "outputs": [],
   "source": [
    "# предсказываем\n",
    "#X_val = data_val\n",
    "X_val = prepare_x(data_val)\n",
    "\n",
    "y_pred = model.predict(X_val)"
   ]
  },
  {
   "cell_type": "code",
   "execution_count": 108,
   "id": "249607ed",
   "metadata": {},
   "outputs": [
    {
     "data": {
      "image/png": "[encoded data removed]",
      "text/plain": [
       "<Figure size 1000x500 with 1 Axes>"
      ]
     },
     "metadata": {},
     "output_type": "display_data"
    }
   ],
   "source": [
    "fig, ax = plt.subplots(figsize=(10,5))\n",
    "sns.histplot(y_pred, bins=40, label='prediction', alpha=1)\n",
    "sns.histplot(y_val, bins=40, label='target', alpha=0.5)\n",
    "ax.set_title('Прогнозы в сравнении с фактическим распределением',fontsize=16)\n",
    "plt.legend()\n",
    "plt.show()"
   ]
  },
  {
   "cell_type": "code",
   "execution_count": 109,
   "id": "082fba5a",
   "metadata": {},
   "outputs": [
    {
     "name": "stdout",
     "output_type": "stream",
     "text": [
      "MAPE: 37%\n"
     ]
    }
   ],
   "source": [
    "y_val = np.expm1(y_val.values)\n",
    "y_pred = np.expm1(y_pred)\n",
    "\n",
    "print(f'MAPE: {round(mean_absolute_percentage_error(y_val, y_pred)*100)}%')"
   ]
  },
  {
   "cell_type": "code",
   "execution_count": 110,
   "id": "855a68e8",
   "metadata": {},
   "outputs": [
    {
     "name": "stdout",
     "output_type": "stream",
     "text": [
      "MAPE: 37%\n"
     ]
    }
   ],
   "source": [
    "# Оценка каечства на тестовых данных\n",
    "#X_test = data_test\n",
    "X_test = prepare_x(data_test)\n",
    "\n",
    "# предсказываем цену\n",
    "y_pred = model.predict(X_test)\n",
    "\n",
    "# проверяем качество\n",
    "y_test = np.expm1(y_test.values)\n",
    "y_pred = np.expm1(y_pred)\n",
    "\n",
    "print(f'MAPE: {round(mean_absolute_percentage_error(y_test, y_pred)*100)}%')"
   ]
  },
  {
   "cell_type": "markdown",
   "id": "08363c0d",
   "metadata": {},
   "source": [
    "Данная модель ошибается в среднем на 37%(34%), требуется доработка."
   ]
  },
  {
   "cell_type": "markdown",
   "id": "edd9451e",
   "metadata": {},
   "source": [
    "### Использование модели"
   ]
  },
  {
   "cell_type": "code",
   "execution_count": 111,
   "id": "c5110bbe",
   "metadata": {},
   "outputs": [],
   "source": [
    "ad = {'make': 'toyota',\n",
    "    'model': 'venza',\n",
    "    'year': 2013,\n",
    "    'engine_fuel_type': 'regular_unleaded',\n",
    "    'engine_hp': 268.0,\n",
    "    'engine_cylinders': 6.0,\n",
    "    'transmission_type': 'automatic',\n",
    "    'driven_wheels': 'all_wheel_drive',\n",
    "    'number_of_doors': 4.0 ,\n",
    "    'market_category': 'crossover,performance',\n",
    "    'vehicle_size': 'midsize',\n",
    "    'vehicle_style': 'wagon',\n",
    "    'highway_mpg': 25,\n",
    "    'city_mpg': 18,\n",
    "    'popularity': 2031\n",
    "}"
   ]
  },
  {
   "cell_type": "code",
   "execution_count": 113,
   "id": "a6fb90fd",
   "metadata": {},
   "outputs": [
    {
     "data": {
      "text/plain": [
       "array([28807.62913218])"
      ]
     },
     "execution_count": 113,
     "metadata": {},
     "output_type": "execute_result"
    }
   ],
   "source": [
    "# прееводим словарь в датафрейм и преобразовываем\n",
    "df_test = pd.DataFrame([ad])\n",
    "\n",
    "#X_test = df_test\n",
    "X_test = prepare_x(df_test)\n",
    "\n",
    "# предсказываем\n",
    "y_pred = model.predict(X_test)\n",
    "\n",
    "# берем экспоненту\n",
    "np.expm1(y_pred)"
   ]
  },
  {
   "cell_type": "markdown",
   "id": "31e15b9e",
   "metadata": {},
   "source": [
    "Фактическая цена согласно источнику была 31120 долларов, наша модель неплохо спарвилась с конкретно этой задачей"
   ]
  }
 ],
 "metadata": {
  "kernelspec": {
   "display_name": "Python 3",
   "language": "python",
   "name": "python3"
  },
  "language_info": {
   "codemirror_mode": {
    "name": "ipython",
    "version": 3
   },
   "file_extension": ".py",
   "mimetype": "text/x-python",
   "name": "python",
   "nbconvert_exporter": "python",
   "pygments_lexer": "ipython3",
   "version": "3.9.10"
  }
 },
 "nbformat": 4,
 "nbformat_minor": 5
}
